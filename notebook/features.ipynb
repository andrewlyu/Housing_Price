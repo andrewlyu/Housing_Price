{
 "cells": [
  {
   "cell_type": "code",
   "execution_count": 1,
   "metadata": {
    "collapsed": false
   },
   "outputs": [],
   "source": [
    "import matplotlib.pyplot as plt\n",
    "%matplotlib inline\n",
    "import pandas as pd\n",
    "import seaborn as sns\n",
    "import numpy as np\n",
    "from feature import is_outlier\n",
    "from sklearn.preprocessing import Normalizer,Imputer\n",
    "from sklearn.ensemble import RandomForestRegressor,GradientBoostingRegressor\n",
    "from scipy.stats import skew\n",
    "from sklearn.feature_selection import f_regression\n",
    "plt.style.use('ggplot')"
   ]
  },
  {
   "cell_type": "code",
   "execution_count": 2,
   "metadata": {
    "collapsed": true
   },
   "outputs": [],
   "source": [
    "train_file = \"../data/train.csv\"\n",
    "test_file = \"../data/test.csv\"\n",
    "train_data = pd.read_csv(train_file)\n",
    "test_data = pd.read_csv(test_file)"
   ]
  },
  {
   "cell_type": "code",
   "execution_count": 3,
   "metadata": {
    "collapsed": false,
    "scrolled": false
   },
   "outputs": [
    {
     "name": "stdout",
     "output_type": "stream",
     "text": [
      "['Id' 'MSSubClass' 'MSZoning' 'LotFrontage' 'LotArea' 'Street' 'Alley'\n",
      " 'LotShape' 'LandContour' 'Utilities' 'LotConfig' 'LandSlope'\n",
      " 'Neighborhood' 'Condition1' 'Condition2' 'BldgType' 'HouseStyle'\n",
      " 'OverallQual' 'OverallCond' 'YearBuilt' 'YearRemodAdd' 'RoofStyle'\n",
      " 'RoofMatl' 'Exterior1st' 'Exterior2nd' 'MasVnrType' 'MasVnrArea'\n",
      " 'ExterQual' 'ExterCond' 'Foundation' 'BsmtQual' 'BsmtCond' 'BsmtExposure'\n",
      " 'BsmtFinType1' 'BsmtFinSF1' 'BsmtFinType2' 'BsmtFinSF2' 'BsmtUnfSF'\n",
      " 'TotalBsmtSF' 'Heating' 'HeatingQC' 'CentralAir' 'Electrical' '1stFlrSF'\n",
      " '2ndFlrSF' 'LowQualFinSF' 'GrLivArea' 'BsmtFullBath' 'BsmtHalfBath'\n",
      " 'FullBath' 'HalfBath' 'BedroomAbvGr' 'KitchenAbvGr' 'KitchenQual'\n",
      " 'TotRmsAbvGrd' 'Functional' 'Fireplaces' 'FireplaceQu' 'GarageType'\n",
      " 'GarageYrBlt' 'GarageFinish' 'GarageCars' 'GarageArea' 'GarageQual'\n",
      " 'GarageCond' 'PavedDrive' 'WoodDeckSF' 'OpenPorchSF' 'EnclosedPorch'\n",
      " '3SsnPorch' 'ScreenPorch' 'PoolArea' 'PoolQC' 'Fence' 'MiscFeature'\n",
      " 'MiscVal' 'MoSold' 'YrSold' 'SaleType' 'SaleCondition' 'SalePrice']\n"
     ]
    }
   ],
   "source": [
    "cols = train_data.columns.values\n",
    "print(cols)"
   ]
  },
  {
   "cell_type": "code",
   "execution_count": 4,
   "metadata": {
    "collapsed": false
   },
   "outputs": [
    {
     "data": {
      "text/plain": [
       "(1460, 81)"
      ]
     },
     "execution_count": 4,
     "metadata": {},
     "output_type": "execute_result"
    }
   ],
   "source": [
    "train_data.shape"
   ]
  },
  {
   "cell_type": "code",
   "execution_count": 5,
   "metadata": {
    "collapsed": false
   },
   "outputs": [
    {
     "name": "stdout",
     "output_type": "stream",
     "text": [
      "['GrLivArea', 'Foundation', 'BldgType', 'TotRmsAbvGrd', 'ExterCond', 'FullBath', 'LowQualFinSF', 'BsmtFinSF2', 'BsmtExposure', 'MiscFeature', 'Condition1', 'BsmtFinType1', 'KitchenQual', 'PavedDrive', 'MSSubClass', 'Electrical', 'GarageQual', 'WoodDeckSF', 'Utilities', 'GarageCars', 'MSZoning', 'ScreenPorch', 'Id', 'MoSold', 'LotArea', 'PoolArea', 'SaleType', 'Neighborhood', 'Fireplaces', 'BsmtFinSF1', 'Alley', 'MiscVal', 'Street', 'HeatingQC', 'Condition2', 'OpenPorchSF', 'Exterior2nd', 'LandContour', 'CentralAir', 'KitchenAbvGr', 'OverallQual', 'LotShape', 'RoofMatl', 'BsmtQual', 'BsmtFinType2', 'TotalBsmtSF', 'LotFrontage', 'FireplaceQu', 'YearRemodAdd', 'RoofStyle', 'SaleCondition', 'BsmtHalfBath', '3SsnPorch', 'MasVnrType', 'GarageYrBlt', 'MasVnrArea', 'Heating', '1stFlrSF', 'ExterQual', 'BsmtUnfSF', 'YearBuilt', 'BsmtFullBath', 'GarageFinish', 'GarageCond', 'EnclosedPorch', 'PoolQC', 'Exterior1st', 'Functional', 'BedroomAbvGr', 'LandSlope', 'GarageArea', 'Fence', 'BsmtCond', '2ndFlrSF', 'GarageType', 'LotConfig', 'OverallCond', 'HouseStyle', 'YrSold', 'HalfBath']\n"
     ]
    }
   ],
   "source": [
    "common = list(set(cols).intersection(set(test_data.columns.values)))\n",
    "print(common)"
   ]
  },
  {
   "cell_type": "code",
   "execution_count": 6,
   "metadata": {
    "collapsed": false
   },
   "outputs": [
    {
     "data": {
      "text/plain": [
       "(2919, 80)"
      ]
     },
     "execution_count": 6,
     "metadata": {},
     "output_type": "execute_result"
    }
   ],
   "source": [
    "all_data = pd.concat((train_data.loc[:, common],\n",
    "                      test_data.loc[:, common]), ignore_index=True)\n",
    "all_data.shape"
   ]
  },
  {
   "cell_type": "code",
   "execution_count": 12,
   "metadata": {
    "collapsed": false
   },
   "outputs": [
    {
     "name": "stdout",
     "output_type": "stream",
     "text": [
      "BsmtFinSF2         1\n",
      "BsmtExposure      82\n",
      "MiscFeature     2814\n",
      "BsmtFinType1      79\n",
      "KitchenQual        1\n",
      "Electrical         1\n",
      "GarageQual       159\n",
      "Utilities          2\n",
      "GarageCars         1\n",
      "MSZoning           4\n",
      "SaleType           1\n",
      "BsmtFinSF1         1\n",
      "Alley           2721\n",
      "Exterior2nd        1\n",
      "BsmtQual          81\n",
      "BsmtFinType2      80\n",
      "TotalBsmtSF        1\n",
      "LotFrontage      486\n",
      "FireplaceQu     1420\n",
      "BsmtHalfBath       2\n",
      "MasVnrType        24\n",
      "GarageYrBlt      159\n",
      "MasVnrArea        23\n",
      "BsmtUnfSF          1\n",
      "BsmtFullBath       2\n",
      "GarageFinish     159\n",
      "GarageCond       159\n",
      "PoolQC          2909\n",
      "Exterior1st        1\n",
      "Functional         2\n",
      "GarageArea         1\n",
      "Fence           2348\n",
      "BsmtCond          82\n",
      "GarageType       157\n",
      "dtype: int64\n"
     ]
    }
   ],
   "source": [
    "col = all_data.isnull().sum()\n",
    "print (col[col > 0])"
   ]
  },
  {
   "cell_type": "code",
   "execution_count": null,
   "metadata": {
    "collapsed": true
   },
   "outputs": [],
   "source": []
  },
  {
   "cell_type": "markdown",
   "metadata": {},
   "source": [
    "# Simple tranform\n",
    "Since the raw data has some \"dirty\" data that needs to be clean up, this section we will go through each feature according to the data description."
   ]
  },
  {
   "cell_type": "code",
   "execution_count": null,
   "metadata": {
    "collapsed": false
   },
   "outputs": [],
   "source": [
    "all_data[[\"BsmtFinType1\", \"BsmtCond\", \"BsmtFinType2\", \"BsmtExposure\", \"BsmtQual\"]].isnull().any(axis=1)"
   ]
  },
  {
   "cell_type": "code",
   "execution_count": null,
   "metadata": {
    "collapsed": false
   },
   "outputs": [],
   "source": [
    "def fill_na_gen(data, cols):\n",
    "    if not isinstance(data, pd.DataFrame):\n",
    "        raise ValueError(\"The passing dataset is not a DataFrame\")\n",
    "\n",
    "    if not isinstance(cols, list):\n",
    "        raise ValueError(\"The passing columns is not a list\")\n",
    "\n",
    "    for val in cols:\n",
    "        if data[val].dtypes == \"object\":\n",
    "            data[val].fillna(data[val].mode(), inplace=True)\n",
    "        else:\n",
    "            data[val].fillna(data[val].median(), inplace=True)\n",
    "    col = data.isnull().sum()\n",
    "    print (col[col > 0])"
   ]
  },
  {
   "cell_type": "code",
   "execution_count": null,
   "metadata": {
    "collapsed": false
   },
   "outputs": [],
   "source": [
    "fill_cols = [\"MSZoning\", \"Utilities\", \"BsmtUnfSF\", \"Electrical\",\"KitchenQual\",\n",
    "             \"BsmtFinSF1\", \"Utilities\", \"SaleType\", \"Functional\", \"Exterior1st\", \"Exterior2nd\"]\n",
    "fill_na_gen(all_data, fill_cols)"
   ]
  },
  {
   "cell_type": "code",
   "execution_count": null,
   "metadata": {
    "collapsed": false
   },
   "outputs": [],
   "source": [
    "col = all_data.isnull().sum()\n",
    "print (col[col > 0])"
   ]
  },
  {
   "cell_type": "code",
   "execution_count": null,
   "metadata": {
    "collapsed": false
   },
   "outputs": [],
   "source": [
    "SubClass_mapping = { 20: \"1S-New\",\n",
    "                     30: \"1S-Old\",\n",
    "                     40: \"1S-Attic\",\n",
    "                     45: \"1.5S-Finish\",\n",
    "                     50: \"1.5S-Unfinished\",\n",
    "                     60: \"2S-New\",\n",
    "                     70: \"2S-Old\",\n",
    "                     75: \"2.5S-All\",\n",
    "                     80: \"Split-Level\",\n",
    "                     85: \"Split-Foyer\",\n",
    "                     90: \"Duplex\",\n",
    "                     120: \"1S-PUD-New\",\n",
    "                     150: \"1.5S-PUD-All\",\n",
    "                     160: \"2S-PUD-New\",\n",
    "                     180: \"Split-Level-PUD\",\n",
    "                     190: \"2F-All\"}\n",
    "train_data['style'] = train_data['MSSubClass'].map(SubClass_mapping)\n",
    "train_data = train_data.drop(['MSSubClass'], axis=1)"
   ]
  },
  {
   "cell_type": "code",
   "execution_count": null,
   "metadata": {
    "collapsed": false
   },
   "outputs": [],
   "source": [
    "train_data['Alley'].fillna('NoAc', inplace=True)\n",
    "train_data['Alley'].value_counts()"
   ]
  },
  {
   "cell_type": "code",
   "execution_count": null,
   "metadata": {
    "collapsed": false
   },
   "outputs": [],
   "source": [
    "train_data.MasVnrType.fillna(\"None\", inplace=True)\n",
    "train_data.MasVnrType.value_counts()"
   ]
  },
  {
   "cell_type": "code",
   "execution_count": null,
   "metadata": {
    "collapsed": false
   },
   "outputs": [],
   "source": [
    "train_data.loc[train_data.MasVnrType==\"None\", 'MasVnrArea'] = 0"
   ]
  },
  {
   "cell_type": "markdown",
   "metadata": {},
   "source": [
    "# Remove Skew from Price values\n",
    "After exploring the distribution of the price values, we can take the logarithm to change the shape of the variable to reduce the skewness of the variables."
   ]
  },
  {
   "cell_type": "code",
   "execution_count": null,
   "metadata": {
    "collapsed": false
   },
   "outputs": [],
   "source": [
    "import seaborn as sns\n",
    "price = train_data[train_data.columns.values[-1]]\n",
    "log_price = np.log(price)\n",
    "print (\"The skewness of the price is {0}\".format(skew(price)))\n",
    "\n",
    "plt.figure(figsize = (10, 5))\n",
    "plt.subplot(1,2,1)\n",
    "sns.distplot(price, color = 'r', hist_kws = {'alpha': 0.9})\n",
    "plt.title('Original Data')\n",
    "plt.xlabel('Sale Price')\n",
    "\n",
    "plt.subplot(1,2,2)\n",
    "sns.distplot(log_price, color = 'r', hist_kws = {'alpha': 0.9})\n",
    "plt.title('Natual log of Data')\n",
    "plt.xlabel('Natual log of Sale Price')\n",
    "plt.tight_layout()"
   ]
  },
  {
   "cell_type": "markdown",
   "metadata": {},
   "source": [
    "# Handling missing values for numerical variables\n",
    "* Remove outliers using Median Absolute Deviation\n",
    "* Calculate skewness of each variable and transform it if greater than 0.75\n",
    "* Apply the sklearn.Normalizer to each column\n",
    "\n",
    "  We can compare two different numerical variables: one with skewness handling and normalization, one without it."
   ]
  },
  {
   "cell_type": "code",
   "execution_count": null,
   "metadata": {
    "collapsed": false
   },
   "outputs": [],
   "source": [
    "train_num_m = train_data.select_dtypes(include = ['float64', 'int64']).iloc[:,1:]\n",
    "train_num = train_data.select_dtypes(include = ['float64', 'int64']).iloc[:,1:]\n",
    "for col in train_num_m.columns.values:\n",
    "    if np.sum(train_num_m[col].isnull() ) > 0:\n",
    "        median = train_num_m[col].median()\n",
    "        idx = np.where(train_num_m.isnull())[0]\n",
    "        train_num_m[col].iloc[idx] = median\n",
    "        train_num[col].iloc[idx] = median\n",
    "        \n",
    "        outliers = np.where(is_outlier(train_num_m[col]))\n",
    "        train_num_m[col].iloc[outliers] = median\n",
    "        \n",
    "        if skew(train_num_m[col]) > 0.75:\n",
    "            train_num_m[col] = np.log(train_num[col])\n",
    "            train_num_m[col] = train_num_m[col].apply(lambda x: 0 if x == -np.inf else x)\n",
    "            \n",
    "        train_num_m[col] = Normalizer().fit_transform(train_num_m[col].reshape(1,-1))[0]"
   ]
  },
  {
   "cell_type": "code",
   "execution_count": null,
   "metadata": {
    "collapsed": false
   },
   "outputs": [],
   "source": [
    "train_num_m[train_num_m.columns.values[-1]] = np.log(train_num_m[train_num_m.columns.values[-1]])\n",
    "corr_m = train_num_m.corr()\n",
    "corr = train_num.corr()\n",
    "plt.figure(figsize = (15,15))\n",
    "sns.heatmap(corr_m, vmax =1 , square = True)\n",
    "plt.figure(figsize = (15,15))\n",
    "sns.heatmap(corr, vmax=1, square = True)"
   ]
  },
  {
   "cell_type": "code",
   "execution_count": null,
   "metadata": {
    "collapsed": false
   },
   "outputs": [],
   "source": [
    "cor_dict_m = corr_m['SalePrice'].to_dict()\n",
    "del cor_dict_m['SalePrice']\n",
    "\n",
    "# raw numerical features\n",
    "cor_dict = corr[\"SalePrice\"].to_dict()\n",
    "del cor_dict['SalePrice']\n",
    "\n",
    "print(\"The raw numerical features sorted by their correlation with Sale price:\\n\")\n",
    "for item in sorted(cor_dict.items(), key = lambda x: -abs(x[1])):\n",
    "    print(\"{0}: \\t {1}\".format(*item))\n",
    "\n",
    "print(\"\\n\\nThe modified numerical features sorted by their correlation with Sale price:\\n\")\n",
    "for item in sorted(cor_dict_m.items(), key = lambda x: -abs(x[1])):\n",
    "    print(\"{0}: \\t {1}\".format(*item))"
   ]
  },
  {
   "cell_type": "code",
   "execution_count": null,
   "metadata": {
    "collapsed": false
   },
   "outputs": [],
   "source": [
    "sns.regplot(x='OverallQual', y='SalePrice', data = train_num_m, color='Orange')"
   ]
  },
  {
   "cell_type": "code",
   "execution_count": null,
   "metadata": {
    "collapsed": false
   },
   "outputs": [],
   "source": [
    "fig = plt.figure()\n",
    "plt.scatter(train_num_m.YearBuilt.values, train_num_m.YearRemodAdd.values)\n",
    "plt.title(\"Year Built\")\n",
    "fig.text(-0.01,0.5, 'Year Remodel Added', va=\"center\", rotation = 'vertical', fontsize = 12)\n",
    "print (corr_m['YearBuilt']['YearRemodAdd'])"
   ]
  },
  {
   "cell_type": "code",
   "execution_count": null,
   "metadata": {
    "collapsed": false
   },
   "outputs": [],
   "source": [
    "plt.figure(figsize = (10, 5))\n",
    "plt.subplot(1,2,1)\n",
    "plt.scatter(train_num_m.GarageCars.values, train_num_m.GarageArea.values)\n",
    "plt.title(\"Size of Garage for Cars\")\n",
    "fig.text(-0.01,0.5, 'Size of Garage area', va=\"center\", rotation = 'vertical', fontsize = 12)\n",
    "print(corr_m['GarageCars']['GarageArea'])\n",
    "plt.subplot(1,2,2)\n",
    "sns.regplot(x='GarageCars', y='GarageArea', data = train_num_m, color='Orange')"
   ]
  },
  {
   "cell_type": "code",
   "execution_count": null,
   "metadata": {
    "collapsed": false
   },
   "outputs": [],
   "source": [
    "fig = plt.figure()\n",
    "plt.scatter(train_num_m.GarageArea.values, train_num_m.GarageYrBlt.values)\n",
    "plt.title(\"Size of Garage\")\n",
    "fig.text(-0.01,0.5, 'The building year for garage', va=\"center\", rotation = 'vertical', fontsize = 12)\n",
    "print(corr_m['GarageArea']['GarageYrBlt'])"
   ]
  },
  {
   "cell_type": "code",
   "execution_count": null,
   "metadata": {
    "collapsed": false
   },
   "outputs": [],
   "source": [
    "fig = plt.figure()\n",
    "plt.scatter(train_num_m.YearBuilt.values, train_num_m.GarageYrBlt.values)\n",
    "plt.title(\"Year Built\")\n",
    "fig.text(-0.01,0.5, 'The year build the garage', va=\"center\", rotation = 'vertical', fontsize = 12)\n",
    "print(corr_m['YearBuilt']['GarageYrBlt'])"
   ]
  },
  {
   "cell_type": "code",
   "execution_count": null,
   "metadata": {
    "collapsed": false
   },
   "outputs": [],
   "source": [
    "from sklearn.ensemble import RandomForestRegressor\n",
    "\n",
    "# Campare the importances of RF for raw and modified features\n",
    "rfr = RandomForestRegressor(n_estimators=1000, n_jobs=-1)\n",
    "y = train_num['SalePrice']\n",
    "X= train_num.drop('SalePrice', axis=1)\n",
    "\n",
    "rfr.fit(X,y)\n",
    "coef = pd.Series(rfr.feature_importances_, index = X.columns).sort_values(ascending=False)\n",
    "\n",
    "plt.figure(figsize=(10, 5))\n",
    "plt.subplot(1,2,1)\n",
    "coef.head(25).plot(kind='bar')\n",
    "plt.title('Raw Feature Significance for random forest')\n",
    "plt.tight_layout()\n",
    "\n",
    "rfr_m = RandomForestRegressor(n_estimators=1000, n_jobs=-1)\n",
    "y_m = train_num_m['SalePrice']\n",
    "X_m= train_num_m.drop('SalePrice', axis=1)\n",
    "\n",
    "rfr_m.fit(X_m,y_m)\n",
    "coef_m = pd.Series(rfr_m.feature_importances_, index = X_m.columns).sort_values(ascending=False)\n",
    "\n",
    "plt.subplot(1,2,2)\n",
    "coef_m.head(25).plot(kind='bar')\n",
    "plt.title('Modified Feature Significance for random forest')\n",
    "plt.tight_layout()"
   ]
  },
  {
   "cell_type": "code",
   "execution_count": null,
   "metadata": {
    "collapsed": false
   },
   "outputs": [],
   "source": [
    "gbr = GradientBoostingRegressor(loss='ls', n_estimators=1000)\n",
    "gbr.fit(X,y)\n",
    "coef = pd.Series(gbr.feature_importances_, index = X.columns).sort_values(ascending=False)\n",
    "\n",
    "plt.figure(figsize=(10, 5))\n",
    "plt.subplot(1,2,1)\n",
    "coef.head(25).plot(kind='bar')\n",
    "plt.title('Raw Feature Significance for gradient boosting trees')\n",
    "plt.tight_layout()\n",
    "\n",
    "gbr_m = GradientBoostingRegressor(loss='ls', n_estimators=1000)\n",
    "y_m = train_num_m['SalePrice']\n",
    "X_m= train_num_m.drop('SalePrice', axis=1)\n",
    "\n",
    "gbr_m.fit(X_m,y_m)\n",
    "coef_m = pd.Series(gbr_m.feature_importances_, index = X_m.columns).sort_values(ascending=False)\n",
    "\n",
    "plt.subplot(1,2,2)\n",
    "coef_m.head(25).plot(kind='bar')\n",
    "plt.title('Modified Feature Significance for gradient boosting trees')\n",
    "plt.tight_layout()"
   ]
  },
  {
   "cell_type": "code",
   "execution_count": null,
   "metadata": {
    "collapsed": false
   },
   "outputs": [],
   "source": [
    "_,pval = f_regression(X, y)\n",
    "coef = pd.Series(pval, index=X.columns).sort_values(ascending=True)\n",
    "\n",
    "plt.figure(figsize=(10,5))\n",
    "plt.subplot(1,2,1)\n",
    "coef.head(25).plot(kind='bar')\n",
    "plt.title('Raw Feature Significance')\n",
    "plt.tight_layout()\n",
    "\n",
    "_,pval_m = f_regression(X_m, y)\n",
    "coef_m = pd.Series(pval_m, index=X_m.columns).sort_values(ascending=True)\n",
    "\n",
    "plt.subplot(1,2,2) \n",
    "coef_m.head(25).plot(kind='bar')\n",
    "plt.title('Modified Feature Significance')\n",
    "plt.tight_layout()"
   ]
  },
  {
   "cell_type": "markdown",
   "metadata": {},
   "source": [
    "# Categorical Variables"
   ]
  },
  {
   "cell_type": "code",
   "execution_count": null,
   "metadata": {
    "collapsed": false
   },
   "outputs": [],
   "source": [
    "cat_value = train_data.select_dtypes(include=['object']).iloc[:,1:]"
   ]
  },
  {
   "cell_type": "code",
   "execution_count": null,
   "metadata": {
    "collapsed": false
   },
   "outputs": [],
   "source": [
    "plt.figure(figsize = (12, 6))\n",
    "sns.boxplot(x = 'Neighborhood', y = 'SalePrice', data = train_data)\n",
    "xt = plt.xticks(rotation = 45)"
   ]
  },
  {
   "cell_type": "code",
   "execution_count": null,
   "metadata": {
    "collapsed": false
   },
   "outputs": [],
   "source": [
    "plt.figure (figsize = (12, 6))\n",
    "sns.countplot(x = 'Neighborhood', data = cat_value)\n",
    "xt = plt.xticks(rotation = 45)"
   ]
  }
 ],
 "metadata": {
  "kernelspec": {
   "display_name": "Python 3",
   "language": "python",
   "name": "python3"
  },
  "language_info": {
   "codemirror_mode": {
    "name": "ipython",
    "version": 3
   },
   "file_extension": ".py",
   "mimetype": "text/x-python",
   "name": "python",
   "nbconvert_exporter": "python",
   "pygments_lexer": "ipython3",
   "version": "3.5.2"
  }
 },
 "nbformat": 4,
 "nbformat_minor": 0
}
