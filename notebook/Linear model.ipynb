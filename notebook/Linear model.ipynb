{
 "cells": [
  {
   "cell_type": "code",
   "execution_count": 1,
   "metadata": {
    "collapsed": false
   },
   "outputs": [],
   "source": [
    "import pandas as pd\n",
    "import numpy as np\n",
    "import seaborn as sns\n",
    "import matplotlib.pyplot as plt\n",
    "%matplotlib inline \n",
    "plt.style.use('ggplot')\n",
    "import feature\n",
    "import warnings\n",
    "import json\n",
    "warnings.filterwarnings('ignore')"
   ]
  },
  {
   "cell_type": "code",
   "execution_count": 2,
   "metadata": {
    "collapsed": false
   },
   "outputs": [
    {
     "name": "stdout",
     "output_type": "stream",
     "text": [
      "Now after the training and test data have been combined:\n",
      "\n",
      "The shape of the DataFrame is [2919,79]\n",
      "\n",
      "The list below are the columns that has NaN values:\n",
      "MSZoning       4\n",
      "Utilities      2\n",
      "Functional     2\n",
      "KitchenQual    1\n",
      "SaleType       1\n",
      "Electrical     1\n",
      "Exterior1st    1\n",
      "Exterior2nd    1\n",
      "dtype: int64\n"
     ]
    }
   ],
   "source": [
    "data = feature.DataCleaner(\"data.json\", \"test\")"
   ]
  },
  {
   "cell_type": "code",
   "execution_count": null,
   "metadata": {
    "collapsed": false
   },
   "outputs": [],
   "source": [
    "plt.hist(data.all_data.loc[data.all_data.MiscFeature.isnull(),'MiscVal'], 50, normed = 1, facecolor = 'green')"
   ]
  },
  {
   "cell_type": "code",
   "execution_count": null,
   "metadata": {
    "collapsed": false
   },
   "outputs": [],
   "source": [
    "max(data.all_data.loc[data.all_data.MiscFeature.isnull(), 'MiscVal'])"
   ]
  },
  {
   "cell_type": "code",
   "execution_count": null,
   "metadata": {
    "collapsed": false
   },
   "outputs": [],
   "source": [
    "min(data.all_data.loc[data.all_data.MiscFeature.isnull(), 'MiscVal'])"
   ]
  },
  {
   "cell_type": "code",
   "execution_count": null,
   "metadata": {
    "collapsed": false
   },
   "outputs": [],
   "source": [
    "with open(\"data.json\") as data_file:\n",
    "    file = json.load(data_file)\n",
    "data.fill_na_spec(file[\"fill_dict\"])"
   ]
  },
  {
   "cell_type": "code",
   "execution_count": null,
   "metadata": {
    "collapsed": false
   },
   "outputs": [],
   "source": [
    "group = {(\"GarageType\", \"Detchd\"): [\"GarageArea\", \"GarageCars\"]}\n",
    "data.fill_na_group(group)"
   ]
  },
  {
   "cell_type": "code",
   "execution_count": null,
   "metadata": {
    "collapsed": true
   },
   "outputs": [],
   "source": [
    "train_file=\"../data/train.csv\"\n",
    "test_file=\"../data/test.csv\"\n",
    "train_data = pd.read_csv(train_file)\n",
    "test_data = pd.read_csv(test_file)"
   ]
  },
  {
   "cell_type": "code",
   "execution_count": null,
   "metadata": {
    "collapsed": false
   },
   "outputs": [],
   "source": [
    "train_data['SalePrice']= np.log1p(train_data[train_data.columns.values[-1]])\n",
    "train_num = train_data.select_dtypes(exclude=[\"object\"]).iloc[:,1:-1]\n",
    "test_num = test_data.select_dtypes(exclude=[\"object\"]).iloc[:,1:]\n",
    "\n",
    "simple_numerical(train_num)\n",
    "simple_numerical(test_num)\n",
    "\n",
    "train_cat = train_data.select_dtypes(include=[\"object\"])\n",
    "test_cat = test_data.select_dtypes(include=[\"object\"])\n",
    "\n",
    "train_cat = simple_categorical(train_cat)\n",
    "train_cat = simple_categorical(test_cat)\n",
    "\n",
    "X_train = train_num.join(train_cat)\n",
    "y_train = train_data['SalePrice']\n",
    "\n",
    "X_test = test_num.join(test_cat)"
   ]
  },
  {
   "cell_type": "code",
   "execution_count": null,
   "metadata": {
    "collapsed": true
   },
   "outputs": [],
   "source": [
    "from sklearn.linear_model import Ridge, RidgeCV, ElasticNet,LassoCV,LassoLarsCV\n",
    "from sklearn.model_selection import cross_val_score\n",
    "\n",
    "def rmse_cv(model):\n",
    "    rmse = np.sqrt(-cross_val_score(model, X_train, y_train, scoring = \"neg_mean_squared_error\", cv = 5))\n",
    "    return rmse"
   ]
  },
  {
   "cell_type": "code",
   "execution_count": null,
   "metadata": {
    "collapsed": false
   },
   "outputs": [],
   "source": [
    "model_ridge = Ridge()\n",
    "alphas = [0.05, 0.1, 0.3, 1, 3, 5, 10, 15, 30, 50, 75]\n",
    "cv_ridge = [rmse_cv(Ridge(alpha = alpha)).mean() \n",
    "            for alpha in alphas]\n",
    "\n",
    "cv_ridge = pd.Series(cv_ridge, index = alphas)\n",
    "cv_ridge.plot(title = \"Validation - Just Do It\")\n",
    "plt.xlabel(\"alpha\")\n",
    "plt.ylabel(\"rmse\")"
   ]
  }
 ],
 "metadata": {
  "kernelspec": {
   "display_name": "Python 3",
   "language": "python",
   "name": "python3"
  },
  "language_info": {
   "codemirror_mode": {
    "name": "ipython",
    "version": 3
   },
   "file_extension": ".py",
   "mimetype": "text/x-python",
   "name": "python",
   "nbconvert_exporter": "python",
   "pygments_lexer": "ipython3",
   "version": "3.5.2"
  }
 },
 "nbformat": 4,
 "nbformat_minor": 0
}
